{
 "metadata": {
  "name": "",
  "signature": "sha256:ae9286466f356007fedb4f9a98b818ee425b7c5457fec6b8568ac20458ee2db0"
 },
 "nbformat": 3,
 "nbformat_minor": 0,
 "worksheets": [
  {
   "cells": [
    {
     "cell_type": "markdown",
     "metadata": {},
     "source": [
      "<h1 align=\"center\">Measurement Science Lab</h1>\n",
      "<h2 align=\"center\">Data Analysis Script</h2>\n",
      "<p></p>\n"
     ]
    },
    {
     "cell_type": "markdown",
     "metadata": {},
     "source": [
      "<p>&nbsp;</p>\n",
      "<p>&nbsp;</p>\n",
      "<p>In this script we will analyse the spectral data from your measurements, for the concentration experiments we will apply the Beer-Lambert Law to calculate the extinction co-efficient of Methylene Blue. Having calculated the extinction co-efficient you can determine the concentration of the unknown solution. </p>\n",
      "\n",
      "<h2>1.1: Loading the Modules</h2>\n",
      "<p>&nbsp;</p>\n",
      "<p>The first thing we need to do is import the libraries that we will need to use, for plotting we will use matplotlib and for analysis we will use numpy and pylab.</p>"
     ]
    },
    {
     "cell_type": "code",
     "collapsed": false,
     "input": [
      "import numpy as np\n",
      "import matplotlib.pyplot as plt\n",
      "from pylab import *"
     ],
     "language": "python",
     "metadata": {},
     "outputs": []
    },
    {
     "cell_type": "markdown",
     "metadata": {},
     "source": [
      "<h2>1.2.1: Loading Data from a Multimeter</h2>\n",
      "<p>&nbsp;</p>\n",
      "<p>In this example we will calculate the absorbance from the voltage data, if you have collected data from the pi you will not need to do this and should skip this section. Change the filename to your data file that should be tab or comma separated. The skiprows command is to tell the script to ignore the header rows. If you file does not contain header rows then you can ignore that.</p>"
     ]
    },
    {
     "cell_type": "code",
     "collapsed": false,
     "input": [
      "data = np.loadtxt(inputfile, skiprows=2)\n",
      "\n",
      "V = []\n",
      "C = []\n",
      "\n",
      "for i in range(0,len(data)):\n",
      "    C.append(data[i,0])\n",
      "    C.append(data[i,1])\n",
      "    "
     ],
     "language": "python",
     "metadata": {},
     "outputs": []
    },
    {
     "cell_type": "markdown",
     "metadata": {},
     "source": [
      "<p>The for loop loads the data now we need to calculate the absorbance using the Beer-Lambert law. You need to enter your VS and VD values, where VS is V solvent and VD is V dark.</p>"
     ]
    },
    {
     "cell_type": "code",
     "collapsed": false,
     "input": [
      "A = []\n",
      "VS = 1\n",
      "VD = 0 \n",
      "for i in range(0,len(data)):\n",
      "    Ab = np.log10((VS-VD)/(V[i]-VD))\n",
      "    A.append[Ab]\n",
      "    "
     ],
     "language": "python",
     "metadata": {},
     "outputs": []
    },
    {
     "cell_type": "markdown",
     "metadata": {},
     "source": [
      "<h2>1.2.2: Raspberry Pi Specific Instructions</h2>\n",
      "<p>&nbsp;</p>\n",
      "<p>If you are using data from the Raspberry Pi then you just need to run the commands below, if you have data from the multimeter skip this step. You just need to put your file name as the inputFile.</p>"
     ]
    },
    {
     "cell_type": "code",
     "collapsed": false,
     "input": [
      "data = np.loadtxt(inputFile, skiprows=2)\n",
      "\n",
      "C = []\n",
      "A = []\n",
      "\n",
      "for i in range(0,len(data)):\n",
      "    C.append(data[i,0])\n",
      "    A.append(data[i,1])\n"
     ],
     "language": "python",
     "metadata": {},
     "outputs": []
    },
    {
     "cell_type": "markdown",
     "metadata": {},
     "source": [
      "<h2>1.3: Check the Data</h2>\n",
      "<p>&nbsp;</p>\n",
      "<p>The first thing we should do is plot the data and have a look at it to see where the behaviour becomes non-linear.</p>"
     ]
    },
    {
     "cell_type": "code",
     "collapsed": false,
     "input": [
      "plt.plot(C,A, '-bo')\n",
      "plt.ylabel('Absorbance')\n",
      "plt.xlabel('Concentration (M)')"
     ],
     "language": "python",
     "metadata": {},
     "outputs": []
    },
    {
     "cell_type": "markdown",
     "metadata": {},
     "source": [
      "<p>Now we need to trim the data-set a little bit to remove a plateau, have a look at the plot and see where the behaviour becomes non-linear. Set the C_cutoff to the value of concentration where the behvaiour becomes non-linear.</p>"
     ]
    },
    {
     "cell_type": "code",
     "collapsed": false,
     "input": [
      "C_cutoff=\n",
      "CF = []\n",
      "AF = []\n",
      "\n",
      "for i in range(0,len(data)):\n",
      "    if C[i] >= C_cutoff:\n",
      "        CF.append(C[i])\n",
      "        AF.append(A[i])"
     ],
     "language": "python",
     "metadata": {},
     "outputs": []
    },
    {
     "cell_type": "markdown",
     "metadata": {},
     "source": [
      "<p>We now have final datasets CF and AF that only contain the data in the region where the behaviour is linear.</p>\n",
      "<p>&nbsp;</p>\n",
      "<h2>1.4: Fit the data</h2>\n",
      "<p>&nbsp;</p>\n",
      "<p>We can now fit the data to the Beer-Lambert law to obtain the extinction co-efficient to do this we will use the polyfit function of order 1. This fits a polynomial of order 1 to the data.</p>\n"
     ]
    },
    {
     "cell_type": "code",
     "collapsed": false,
     "input": [
      "fit = polyfit(CF,AF,1)\n",
      "outfit = np.poly1d(fit)\n",
      "print \"The fit to the data is:\"\n",
      "print \"y=%s\"  %(outfit)\n",
      "fit_fn = poly1d(fit)"
     ],
     "language": "python",
     "metadata": {},
     "outputs": []
    },
    {
     "cell_type": "markdown",
     "metadata": {},
     "source": [
      "<p>We have now got the fit as a function and the value for the extinction co-efficient the final thing to do is plot the data along with the fit.</p>"
     ]
    },
    {
     "cell_type": "code",
     "collapsed": false,
     "input": [
      "plt.plot(C, A, 'bo', C, fit_fn(C), '--k')\n",
      "plt.ylabel('Absorbance')\n",
      "plt.xlabel('Concentration (M)')\n",
      "plt.show()"
     ],
     "language": "python",
     "metadata": {},
     "outputs": []
    }
   ],
   "metadata": {}
  }
 ]
}