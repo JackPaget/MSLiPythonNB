{
 "metadata": {
  "name": "",
  "signature": "sha256:4dedd71f60c507dd4a605772561b7e2748f253e0e406147a9d13373cc5efc693"
 },
 "nbformat": 3,
 "nbformat_minor": 0,
 "worksheets": [
  {
   "cells": [
    {
     "cell_type": "markdown",
     "metadata": {},
     "source": [
      "<h1 align=\"center\">Measurement Science Lab</h1>\n",
      "<h2 align=\"center\">Data Acquisition Script</h2>\n",
      "<p>&nbsp;</p>\n",
      "<p>To acquire the data we need the Raspberry Pi to communicate with the ADC chip to do this we load an I2C library that does the communicating and an Adadfruit library that controls the communication. We also load the sys module to allow the script to read arguments from the command line and the matplotlib library and numpy libraries to analyse the data. Finally, we load the time library to control the data acqusition frequency. You will <b>not</b> be able to run this script, it is designed to give you some orientation as to what is involved in the data acquisition.</p>\n"
     ]
    },
    {
     "cell_type": "code",
     "collapsed": false,
     "input": [
      "from Adafruit_ADS1x15 import ADS1x15\n",
      "import matplotlib.pyplot as plt\n",
      "import numpy as np\n",
      "import sys"
     ],
     "language": "python",
     "metadata": {},
     "outputs": []
    },
    {
     "cell_type": "markdown",
     "metadata": {},
     "source": [
      "<p>Now we need to read in some arguments from the command line these are parsed from the pi_spectroscopy script to the python script to allow the python script to run the correct code. </p>"
     ]
    },
    {
     "cell_type": "code",
     "collapsed": false,
     "input": [
      "time1 = int(sys.argv[1])\n",
      "filename = sys.argv[2]\n",
      "runs = int(sys.argv[3])\n",
      "type = sys.argv[4]\n",
      "xlab = sys.argv[5]\n",
      "vdark = int(sys.argv[6]) "
     ],
     "language": "python",
     "metadata": {},
     "outputs": []
    },
    {
     "cell_type": "markdown",
     "metadata": {},
     "source": [
      "<p>Using the inputs we then define the parameters that we feed to the ADC.</p>"
     ]
    },
    {
     "cell_type": "code",
     "collapsed": false,
     "input": [
      "############# Settings for the AdaFruit ADC Module #########################\n",
      "#\t\t\t\t\t\t\t\t\t\t\t\t\t\t\t\t\t\t   #\n",
      "# Fixed sps (8 16 32 64 128 250 475 860)\t\t\t\t\t\t\t\t   #\n",
      "# pga (6144 4096 2048 1024 0512 0256)\t\t\t\t\t\t\t\t       #\n",
      "# Do not edit the other options unless you know what you're doing          #\n",
      "#\t\t\t\t\t\t\t\t\t\t\t\t\t\t\t               #\n",
      "############################################################################\n",
      "\n",
      "sps = 250\n",
      "datapoints = int(time1*sps) \n",
      "pga = 6144\n",
      "ADS1115 = 0x01\n",
      "ADS1015 = 0x00\n",
      "period = 1.00/sps\n",
      "adc = ADS1x15(ic=ADS1015)"
     ],
     "language": "python",
     "metadata": {},
     "outputs": []
    },
    {
     "cell_type": "markdown",
     "metadata": {},
     "source": [
      "<p>Then we define a function to collect the data according to these parameters</p>"
     ]
    },
    {
     "cell_type": "code",
     "collapsed": false,
     "input": [
      "def logdata():\n",
      "\tdata = []\n",
      "\tadc.startContinuousDifferentialConversion(0,1,pga,sps)\n",
      "\tstartTime = time.time()\n",
      "\tt1 = startTime\n",
      "\tt2 = t1\n",
      "\tfor x in range(0,datapoints):\n",
      "\t\tdata.append(adc.getLastConversionResults())\n",
      "\t\twhile(t2-t1 < period):\n",
      "\t\t\tt2 = time.time()\n",
      "\t\tt1 += period\n",
      "\treturn(data)"
     ],
     "language": "python",
     "metadata": {},
     "outputs": []
    },
    {
     "cell_type": "markdown",
     "metadata": {},
     "source": [
      "<p>Next we define a function for each of the experiments.</p>"
     ]
    },
    {
     "cell_type": "code",
     "collapsed": false,
     "input": [
      "########################### Concentration ##################################\n",
      "\n",
      "def concentration_read():\n",
      "\t# Record V solvent for this run \n",
      " \tprint 'Please insert a sample of solvent.'\n",
      "\tprint 'Press return to record V solvent.'\n",
      "\tyes = raw_input()\n",
      "\tdataSamples = logdata()\n",
      "\tvsolv = np.mean(dataSamples)\n",
      "\t# Repeat for each concentration and output data\n",
      "\tfor x in range(0,runs):\n",
      "\t\tprint 'What concentration are you testing?' \n",
      "\t\tconc = raw_input()\n",
      "\t\tprint 'Press return to record V for concentration: %s M' %(conc)\n",
      "\t\tyes = raw_input()\t\n",
      "\t\tdataSamples = logdata()\n",
      "\t\t# Calculate the absorbance from the mean of each reading\n",
      "\t\tabsorbance = np.log10((vsolv - vdark)/(np.mean(dataSamples)-vdark))\n",
      "\t\t# Print the values of concentration, absorbance, V, and V Std Dev to \n",
      "\t\t# file\n",
      "\t\tstr_t=\"\\r\\n%s\\t%f\\t%f\\t%f\"  %(conc, absorbance, np.mean(dataSamples), np.std(dataSamples))\n",
      "\t\tf = open(filename, 'a')\n",
      "\t\tf.write(str_t)\n",
      "\t\tf.close\n",
      "\n",
      "############################## Angular ######################################\n",
      "\n",
      "def angular_read():\n",
      "\t# Get the period of the diffraction grating \n",
      "\tdgrate = float(input('What is the period of your diffraction grating in nm? '))\n",
      "\t# Collect the solvent and solution voltages for each angle\n",
      "\tfor x in range(0,runs):\n",
      "\t  angl = float(input('What angle are you testing? '))\n",
      "\t  print 'Please insert a sample of solvent and press enter.'\n",
      "          v0 = raw_input()\n",
      "\t  Vsolv = logdata()\n",
      "\t  print 'Please insert a sample of your solution and press enter.'\n",
      "          v0 = raw_input()\n",
      "\t  dataSamples = logdata()\n",
      "\t  Vsolvc = np.mean(Vsolv)\n",
      " \t  Vangc = np.mean(dataSamples)\n",
      " \t  # Calculate asborbance\n",
      "\t  absorb = np.log10((Vsolvc - vdark)/(Vangc - vdark))\n",
      "\t  # Calculate the wavelength in nm from dgrate and angle in radians\n",
      "\t  # Print the values of wavelength, absorbance, angle, V, V Std Dev, \n",
      "\t  # V solv, and V solv Std Dev to file\n",
      "      wlength = np.abs(dgrate*np.sin((angl*np.pi)/180))\n",
      "\t  str_t=\"\\r\\n%f\\t%f\\t%f\\t%f\\t%f\\t%f\\t%f\"  %(wlength, absorb, angl, np.mean(dataSamples), np.std(dataSamples), np.mean(Vsolv), np.std(Vsolv) )\n",
      "\t  f = open(filename, 'a')\n",
      "      f.write(str_t)\n",
      "\t  f.close\n",
      "\n",
      "############################## Time Resolved ###############################\n",
      "\n",
      "def time_resolved():\n",
      "\tperiod = 0.1/sps\n",
      "\truns = runs*60\n",
      "\tprint 'Please insert a sample of solvent.'\n",
      "\tprint 'Press return to record V solvent.'\n",
      "\tyes = raw_input()\n",
      "\tdataSamples = logdata()\n",
      "\tvsolv = np.mean(dataSamples)\n",
      "\tprint 'Data recorded ... please load you reaction to follow.'\n",
      "\ttt=0\n",
      "\tprint 'Press enter when you are ready to begin the experiment.'\n",
      "\tv0=raw_input()\n",
      "\tfor x in range(0,runs):\n",
      "\t\tv0 = raw_input()\n",
      "\t\tdataSamples = logdata()\n",
      "\t\tabsorbance = np.log10((vsolv - vdark)/(np.mean(dataSamples)-vdark))\n",
      "\t\tstr_t=\"\\r\\n%f\\t%f\\t%f\\t%f\"  %(tt, absorbance, np.mean(dataSamples), np.std(dataSamples))\n",
      "\t\ttt = tt+0.1"
     ],
     "language": "python",
     "metadata": {},
     "outputs": []
    },
    {
     "cell_type": "markdown",
     "metadata": {},
     "source": [
      "<p>To run the script we use an if conditional to select the appropriate function to run.</p>"
     ]
    },
    {
     "cell_type": "code",
     "collapsed": false,
     "input": [
      "if type == \"angles\":\n",
      "\tangular_read()\n",
      "elif type == \"concentrations\":\n",
      "\tconcentration_read()\n",
      "elif type == \"timer\":\n",
      "\ttime_resolved()\n",
      "else:\n",
      "\tprint 'No method specified!'\n"
     ],
     "language": "python",
     "metadata": {},
     "outputs": []
    },
    {
     "cell_type": "markdown",
     "metadata": {},
     "source": [
      "<p>The last thing we do is plot the data.</p>"
     ]
    },
    {
     "cell_type": "code",
     "collapsed": false,
     "input": [
      "data = np.loadtxt(filename, skiprows=2)\n",
      "\n",
      "x = []\n",
      "y = []\n",
      "er = []\n",
      "\n",
      "for i in range(0,len(data)):\n",
      "        x.append(data[i,0])\n",
      "        y.append(data[i,1])\n",
      "\n",
      "plt.plot(x,y, 'bo')\n",
      "plt.ylabel('Absorbance')\n",
      "plt.xlabel(xlab)\n",
      "plt.show()"
     ],
     "language": "python",
     "metadata": {},
     "outputs": []
    },
    {
     "cell_type": "markdown",
     "metadata": {},
     "source": [
      "<p>The experiment is complete.</p>"
     ]
    },
    {
     "cell_type": "code",
     "collapsed": false,
     "input": [],
     "language": "python",
     "metadata": {},
     "outputs": []
    }
   ],
   "metadata": {}
  }
 ]
}